{
  "nbformat": 4,
  "nbformat_minor": 0,
  "metadata": {
    "colab": {
      "name": "Celsius.ipynb",
      "provenance": [],
      "authorship_tag": "ABX9TyOMC8AdA0AzQBQNQSr3YmVe",
      "include_colab_link": true
    },
    "kernelspec": {
      "name": "python3",
      "display_name": "Python 3"
    },
    "language_info": {
      "name": "python"
    }
  },
  "cells": [
    {
      "cell_type": "markdown",
      "metadata": {
        "id": "view-in-github",
        "colab_type": "text"
      },
      "source": [
        "<a href=\"https://colab.research.google.com/github/LeonardoCherubino/Celsius/blob/main/Celsius.ipynb\" target=\"_parent\"><img src=\"https://colab.research.google.com/assets/colab-badge.svg\" alt=\"Open In Colab\"/></a>"
      ]
    },
    {
      "cell_type": "code",
      "execution_count": null,
      "metadata": {
        "id": "HVWTV8ej0M0g"
      },
      "outputs": [],
      "source": [
        ""
      ]
    },
    {
      "cell_type": "markdown",
      "source": [
        "#### 10. Faça um Programa que peça a temperatura em graus Celsius, transforme e mostre em graus Fahrenheit.\n"
      ],
      "metadata": {
        "id": "hff5HpWM0NqP"
      }
    },
    {
      "cell_type": "code",
      "source": [
        "Celsius = float(input('Entre com o valor em graus Celsius'))\n",
        "Fahrenheit = (5/9) * (Celsius + 32)\n",
        "print('O valor equivalente de {} Celsius é {} Fahrenheit'.format(Celsius, Fahrenheit))"
      ],
      "metadata": {
        "colab": {
          "base_uri": "https://localhost:8080/"
        },
        "id": "1LtLugNG0QV-",
        "outputId": "dcacfd4e-2ae0-4515-a227-fa3f0d536b81"
      },
      "execution_count": 1,
      "outputs": [
        {
          "output_type": "stream",
          "name": "stdout",
          "text": [
            "Entre com o valor em graus Celsius18\n",
            "O valor equivalente de 18.0 Celsius é 27.77777777777778 Fahrenheit\n"
          ]
        }
      ]
    }
  ]
}